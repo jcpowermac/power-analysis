{
 "cells": [
  {
   "cell_type": "code",
   "execution_count": 146,
   "id": "f1dd9f12-21e3-45ef-b964-9d67ff7c1fee",
   "metadata": {},
   "outputs": [],
   "source": [
    "import pandas as pd"
   ]
  },
  {
   "cell_type": "code",
   "execution_count": 147,
   "id": "307038dc-c725-4ae2-ab7c-797951dce3a2",
   "metadata": {
    "tags": []
   },
   "outputs": [],
   "source": [
    "tranmission_cost=0.03097796143\n",
    "high_cost=0.17907063197\n",
    "low_cost=0.03450765864\n",
    "\n",
    "spreadsheet = pd.read_csv('836C04-Home-1H.csv')"
   ]
  },
  {
   "cell_type": "code",
   "execution_count": 148,
   "id": "dd624876-4917-47b9-a0ef-44628fd30044",
   "metadata": {
    "tags": []
   },
   "outputs": [],
   "source": [
    "spreadsheet.index = pd.to_datetime(spreadsheet['Time Bucket (America/New_York)'])"
   ]
  },
  {
   "cell_type": "code",
   "execution_count": 149,
   "id": "c9a534b2-297b-412f-8c76-5c2838feb52b",
   "metadata": {
    "tags": []
   },
   "outputs": [],
   "source": [
    "weekday = pd.Series(spreadsheet.index.day_name().isin(['Monday', 'Tuesday', 'Wednesday', 'Thursday', 'Friday']))\n",
    "\n",
    "high = spreadsheet[weekday.values]\n",
    "high = high.between_time(\"07:00:00\", \"20:59:00\")"
   ]
  },
  {
   "cell_type": "code",
   "execution_count": 150,
   "id": "ec0b06aa-2425-435a-b0e0-40192ab92375",
   "metadata": {
    "tags": []
   },
   "outputs": [],
   "source": [
    "low = spreadsheet[weekday.values]\n",
    "low =  low.between_time(\"21:00:00\", \"06:59:00\")"
   ]
  },
  {
   "cell_type": "code",
   "execution_count": 151,
   "id": "b4735acb-2e72-4295-a1ba-aa2da03958aa",
   "metadata": {
    "tags": []
   },
   "outputs": [],
   "source": [
    "weekend = spreadsheet[pd.Series(spreadsheet.index.day_name().isin(['Saturday', 'Sunday'])).values]"
   ]
  },
  {
   "cell_type": "code",
   "execution_count": 152,
   "id": "c6aefa10-f871-4b92-baa1-b4c1445643dc",
   "metadata": {
    "tags": []
   },
   "outputs": [],
   "source": [
    "low = pd.concat([low,weekend])"
   ]
  },
  {
   "cell_type": "code",
   "execution_count": 153,
   "id": "80e36eb9-c8a6-4fa5-a761-e4e8a970628a",
   "metadata": {
    "tags": []
   },
   "outputs": [],
   "source": [
    "high_total = high['Home-Mains_B (kWhs)'].sum() + high['Home-Mains_C (kWhs)'].sum()\n",
    "high_total_cost = high_total*high_cost + high_total*tranmission_cost"
   ]
  },
  {
   "cell_type": "code",
   "execution_count": 154,
   "id": "12a5687e-d36e-481b-8756-ac3d3bfbc501",
   "metadata": {
    "tags": []
   },
   "outputs": [],
   "source": [
    "low_total = low['Home-Mains_B (kWhs)'].sum() + low['Home-Mains_C (kWhs)'].sum()\n",
    "low_total_cost = low_total*low_cost + low_total*tranmission_cost"
   ]
  },
  {
   "cell_type": "code",
   "execution_count": 155,
   "id": "eb1eb09c-61a0-4702-a667-73b38b7596c8",
   "metadata": {
    "tags": []
   },
   "outputs": [],
   "source": [
    "orig_total = spreadsheet['Home-Mains_B (kWhs)'].sum() + spreadsheet['Home-Mains_C (kWhs)'].sum()"
   ]
  },
  {
   "cell_type": "code",
   "execution_count": 158,
   "id": "2196f4b0-d723-4722-8637-2e2f319dc05a",
   "metadata": {},
   "outputs": [
    {
     "data": {
      "text/html": [
       "<div>\n",
       "<style scoped>\n",
       "    .dataframe tbody tr th:only-of-type {\n",
       "        vertical-align: middle;\n",
       "    }\n",
       "\n",
       "    .dataframe tbody tr th {\n",
       "        vertical-align: top;\n",
       "    }\n",
       "\n",
       "    .dataframe thead th {\n",
       "        text-align: right;\n",
       "    }\n",
       "</style>\n",
       "<table border=\"1\" class=\"dataframe\">\n",
       "  <thead>\n",
       "    <tr style=\"text-align: right;\">\n",
       "      <th></th>\n",
       "      <th>21-07 tier kWh</th>\n",
       "      <th>07-21 tier kWh</th>\n",
       "      <th>total kWh</th>\n",
       "      <th>total kWh</th>\n",
       "      <th>21-07 cost</th>\n",
       "      <th>07-21 cost</th>\n",
       "    </tr>\n",
       "  </thead>\n",
       "  <tbody>\n",
       "    <tr>\n",
       "      <th>2022</th>\n",
       "      <td>5520.4071</td>\n",
       "      <td>2665.9108</td>\n",
       "      <td>8186.3179</td>\n",
       "      <td>8186.3179</td>\n",
       "      <td>361.507282</td>\n",
       "      <td>559.970814</td>\n",
       "    </tr>\n",
       "  </tbody>\n",
       "</table>\n",
       "</div>"
      ],
      "text/plain": [
       "      21-07 tier kWh  07-21 tier kWh  total kWh  total kWh  21-07 cost  \\\n",
       "2022       5520.4071       2665.9108  8186.3179  8186.3179  361.507282   \n",
       "\n",
       "      07-21 cost  \n",
       "2022  559.970814  "
      ]
     },
     "execution_count": 158,
     "metadata": {},
     "output_type": "execute_result"
    }
   ],
   "source": [
    "data = [[low_total,high_total, high_total+low_total, orig_total, low_total_cost, high_total_cost]]\n",
    "summary = pd.DataFrame(data, index=['2022'], columns=['21-07 tier kWh','07-21 tier kWh', 'total kWh', 'total kWh', '21-07 cost', '07-21 cost'])\n",
    "summary"
   ]
  },
  {
   "cell_type": "code",
   "execution_count": 157,
   "id": "5ea0dc15-14f6-4f82-97c8-e17ccb6a5abf",
   "metadata": {
    "tags": []
   },
   "outputs": [
    {
     "name": "stderr",
     "output_type": "stream",
     "text": [
      "/tmp/ipykernel_87/3803210979.py:1: FutureWarning: Indexing with multiple keys (implicitly converted to a tuple of keys) will be deprecated, use a list instead.\n",
      "  (high.groupby(high.index.month)['Home-Mains_B (kWhs)', 'Home-Mains_C (kWhs)'].sum()).plot.bar()\n"
     ]
    },
    {
     "data": {
      "text/plain": [
       "<Axes: xlabel='Time Bucket (America/New_York)'>"
      ]
     },
     "execution_count": 157,
     "metadata": {},
     "output_type": "execute_result"
    },
    {
     "data": {
      "image/png": "[encoded data removed]",
      "text/plain": [
       "<Figure size 640x480 with 1 Axes>"
      ]
     },
     "metadata": {},
     "output_type": "display_data"
    }
   ],
   "source": [
    "(high.groupby(high.index.month)['Home-Mains_B (kWhs)', 'Home-Mains_C (kWhs)'].sum()).plot.bar()"
   ]
  },
  {
   "cell_type": "code",
   "execution_count": 167,
   "id": "c1c3101a-19bf-4e7c-8f52-8c0545a68d01",
   "metadata": {
    "tags": []
   },
   "outputs": [
    {
     "data": {
      "text/plain": [
       "2.6010920212765956"
      ]
     },
     "execution_count": 167,
     "metadata": {},
     "output_type": "execute_result"
    }
   ],
   "source": [
    "# https://unboundsolar.com/solar-information/sun-hours-us-map\n",
    "# Used max since our highest usage is in July\n",
    "sunhours = 4.7\n",
    "highmonth = high.groupby(high.index.month)\n",
    "maxkwh = (highmonth['Home-Mains_B (kWhs)'].sum() + highmonth['Home-Mains_C (kWhs)'].sum()).max()\n",
    "# https://unboundsolar.com/blog/how-to-size-solar-system\n",
    "dcsize = (((maxkwh/30)/sunhours)*1.15)\n",
    "dcsize"
   ]
  },
  {
   "cell_type": "code",
   "execution_count": null,
   "id": "a14ebaab-ad4c-4d9a-9d47-4888b233bd03",
   "metadata": {},
   "outputs": [],
   "source": []
  }
 ],
 "metadata": {
  "kernelspec": {
   "display_name": "Python 3 (ipykernel)",
   "language": "python",
   "name": "python3"
  },
  "language_info": {
   "codemirror_mode": {
    "name": "ipython",
    "version": 3
   },
   "file_extension": ".py",
   "mimetype": "text/x-python",
   "name": "python",
   "nbconvert_exporter": "python",
   "pygments_lexer": "ipython3",
   "version": "3.10.9"
  }
 },
 "nbformat": 4,
 "nbformat_minor": 5
}
